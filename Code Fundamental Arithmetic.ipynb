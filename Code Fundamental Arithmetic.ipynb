{
 "cells": [
  {
   "cell_type": "code",
   "execution_count": 1,
   "metadata": {},
   "outputs": [
    {
     "name": "stdout",
     "output_type": "stream",
     "text": [
      "Factor of 100 found using Pollard's rho algorithm: 4\n",
      "Prime factors of 56: Counter({2: 3, 7: 1})\n",
      "The greatest common divisor is 6\n"
     ]
    }
   ],
   "source": [
    "import math\n",
    "import numpy as np\n",
    "from collections import Counter\n",
    "from math import gcd\n",
    "\n",
    "def fact(n):\n",
    "    unbroken = []\n",
    "    limit = math.trunc(math.sqrt(n)) + 1\n",
    "    # We only need numbers up to the root, as factors mirror after that point.\n",
    "    for i in range(2, limit):\n",
    "        if (n / i).is_integer():  # Checking for divisibility\n",
    "            unbroken.append(int(i))\n",
    "            unbroken.append(int(n / i))\n",
    "            break\n",
    "    if len(unbroken) == 0:\n",
    "        return \"Prime\"\n",
    "    else:\n",
    "        return unbroken\n",
    "\n",
    "def primes(n):\n",
    "    primef = []\n",
    "    if fact(n) == \"Prime\":\n",
    "        return \"Prime\"\n",
    "    else:\n",
    "        trims = fact(n)\n",
    "        while np.prod(primef) != n:\n",
    "            for i in trims:\n",
    "                if fact(i) == \"Prime\":\n",
    "                    primef.append(i)\n",
    "                    trims.remove(i)\n",
    "                else:\n",
    "                    trims.remove(i)\n",
    "                    trims = trims + fact(i)\n",
    "    # This takes the factors and breaks them up into their prime components.\n",
    "    return Counter(primef)  # This returns the primes and their powers in the format (Prime:Power)\n",
    "\n",
    "def g(x, n):\n",
    "    return ((x ** 2) + 1) % n\n",
    "\n",
    "def rho(x0, num):\n",
    "    a = x0\n",
    "    b = x0\n",
    "    d = 1\n",
    "    facts = []\n",
    "    while d == 1:\n",
    "        b = g(b, num)\n",
    "        a = g(g(a, num), num)\n",
    "        d = gcd(abs(b - a), num)\n",
    "        if d != num and d != 1:\n",
    "            return d\n",
    "\n",
    "def gcd_via_euclidean_algorithm(n1, n2):\n",
    "    # If mod of n1 and n2 equals 0, n2 is the GCD. If the mod does not equal 0, there is a recursive loop until the mod equals 0. Each iteration of the loop n1 is reassigned to n2 and n2 reassigned to the remainder of n1/n2.\n",
    "    while (n1 % n2 != 0):\n",
    "        (n1, n2) = (n2, n1 % n2)\n",
    "    # The final value of n2 from this loop is the GCD of the two integers.\n",
    "    print(f'The greatest common divisor is {n2}')\n",
    "\n",
    "# Example usage:\n",
    "num = 100  # Change this number to test with different values\n",
    "x0 = 2\n",
    "factor = rho(x0, num)\n",
    "print(f'Factor of {num} found using Pollard\\'s rho algorithm: {factor}')\n",
    "\n",
    "num = 56  # Change this number to test prime factorization\n",
    "prime_factors = primes(num)\n",
    "print(f'Prime factors of {num}: {prime_factors}')\n",
    "\n",
    "gcd_via_euclidean_algorithm(48, 18)  # Example GCD calculation\n"
   ]
  }
 ],
 "metadata": {
  "kernelspec": {
   "display_name": "Python 3",
   "language": "python",
   "name": "python3"
  },
  "language_info": {
   "codemirror_mode": {
    "name": "ipython",
    "version": 3
   },
   "file_extension": ".py",
   "mimetype": "text/x-python",
   "name": "python",
   "nbconvert_exporter": "python",
   "pygments_lexer": "ipython3",
   "version": "3.11.5"
  }
 },
 "nbformat": 4,
 "nbformat_minor": 2
}
